{
 "cells": [
  {
   "cell_type": "code",
   "execution_count": 16,
   "id": "a1420e8c",
   "metadata": {},
   "outputs": [],
   "source": [
    "import sys\n",
    "import os\n",
    "sys.path.append('../src')\n",
    "from main import LitClassifier\n",
    "\n",
    "from model import ImgModel\n",
    "from data import WavDatset\n",
    "from trans import get_transforms\n",
    "import pandas as pd\n",
    "import numpy as np\n",
    "import seaborn as sns\n",
    "\n",
    "import pytorch_lightning as pl\n",
    "from pytorch_lightning import trainer\n",
    "from torch.nn import functional as F\n",
    "from typing import Optional\n",
    "\n",
    "\n",
    "import torch\n",
    "from torch.utils.data import DataLoader\n",
    "from tqdm import tqdm"
   ]
  },
  {
   "cell_type": "code",
   "execution_count": 2,
   "id": "50a2b04c",
   "metadata": {},
   "outputs": [],
   "source": [
    "BASE_DIR = '../data/'\n",
    "TRAIN_PATH = os.path.join(BASE_DIR, 'train_dataset')\n",
    "TEST_PATH = os.path.join(BASE_DIR, 'test_dataset')"
   ]
  },
  {
   "cell_type": "code",
   "execution_count": 3,
   "id": "182773f4",
   "metadata": {},
   "outputs": [],
   "source": [
    "def make_test_dataloader():\n",
    "    # Test Dataloader\n",
    "    test_df = pd.read_csv('../data/sample_submission.csv')#[:100]\n",
    "    test_dataset = WavDatset(test_df, trans=get_transforms(data='test'), is_train=False) #  images=test_images,\n",
    "    test_dataloader = DataLoader(test_dataset, batch_size=128, shuffle=False, num_workers=10)\n",
    "    return test_dataloader\n"
   ]
  },
  {
   "cell_type": "code",
   "execution_count": 12,
   "id": "7506689e",
   "metadata": {},
   "outputs": [],
   "source": [
    "class LitClassifier(pl.LightningModule):\n",
    "    \"\"\"\n",
    "    >>> LitClassifier(Backbone())  # doctest: +ELLIPSIS +NORMALIZE_WHITESPACE\n",
    "    LitClassifier(\n",
    "      (backbone): ...\n",
    "    )\n",
    "    \"\"\"\n",
    "\n",
    "    def __init__(\n",
    "        self,\n",
    "        scale_list = [0.25, 0.5], # 0.125, \n",
    "        backbone: Optional[ImgModel] = None,\n",
    "        learning_rate: float = 0.0001,\n",
    "    ):\n",
    "        super().__init__()\n",
    "        self.save_hyperparameters(ignore=['backbone'])\n",
    "        if backbone is None:\n",
    "            backbone = ImgModel()\n",
    "        self.backbone = backbone\n",
    "\n",
    "    def forward(self, batch):\n",
    "        out = self.backbone.backbone.forward_features(batch)\n",
    "        out = self.backbone.pool(out)\n",
    "        out = self.backbone.fc(out[:,:,0,0])\n",
    "        return out"
   ]
  },
  {
   "cell_type": "code",
   "execution_count": 13,
   "id": "99ea1bc5",
   "metadata": {},
   "outputs": [],
   "source": [
    "weight_file = 'epoch=27-val_acc=0.5149_fold_0.ckpt' \n",
    "loade_model_path = f'../src/model/{weight_file}'\n",
    "model = LitClassifier()\n",
    "model = model.load_from_checkpoint(loade_model_path).cuda().eval()"
   ]
  },
  {
   "cell_type": "code",
   "execution_count": 14,
   "id": "669a3c83",
   "metadata": {},
   "outputs": [
    {
     "name": "stderr",
     "output_type": "stream",
     "text": [
      "100%|███████████████████████████████████████████████████████████████████████████████████████████████████████████████████████████████████████████████████████████████████████████████████████████████████████████████████████| 16/16 [00:00<00:00, 16.37it/s]\n"
     ]
    }
   ],
   "source": [
    "\n",
    "\n",
    "test_dataloader = make_test_dataloader()\n",
    "pred_list = list()\n",
    "with torch.no_grad():\n",
    "    for i, x in enumerate(tqdm(test_dataloader)):\n",
    "        pred = model(x.cuda())\n",
    "        pred = pred.detach().cpu()#.sigmoid()\n",
    "        pred = torch.argmax(pred, dim=1)\n",
    "        pred_list.append(pred)\n"
   ]
  },
  {
   "cell_type": "code",
   "execution_count": 15,
   "id": "bb6421f8",
   "metadata": {},
   "outputs": [],
   "source": [
    "pred = torch.cat(pred_list)"
   ]
  },
  {
   "cell_type": "code",
   "execution_count": 20,
   "id": "360e3f42",
   "metadata": {},
   "outputs": [
    {
     "data": {
      "text/plain": [
       "<AxesSubplot:ylabel='count'>"
      ]
     },
     "execution_count": 20,
     "metadata": {},
     "output_type": "execute_result"
    },
    {
     "data": {
      "image/png": "[encoded data removed]",
      "text/plain": [
       "<Figure size 432x288 with 1 Axes>"
      ]
     },
     "metadata": {
      "needs_background": "light"
     },
     "output_type": "display_data"
    }
   ],
   "source": [
    "sns.countplot(pred.numpy())"
   ]
  },
  {
   "cell_type": "code",
   "execution_count": 23,
   "id": "6d606779",
   "metadata": {},
   "outputs": [],
   "source": [
    "\n",
    "# print(pred)\n",
    "sub = pd.read_csv('../data/sample_submission.csv')\n",
    "sub['age_'] = pred.numpy() + 1\n",
    "sub.to_csv('../sub/eff_128size.csv', index=False)"
   ]
  },
  {
   "cell_type": "code",
   "execution_count": 24,
   "id": "53fa9d06",
   "metadata": {},
   "outputs": [
    {
     "data": {
      "text/html": [
       "<div>\n",
       "<style scoped>\n",
       "    .dataframe tbody tr th:only-of-type {\n",
       "        vertical-align: middle;\n",
       "    }\n",
       "\n",
       "    .dataframe tbody tr th {\n",
       "        vertical-align: top;\n",
       "    }\n",
       "\n",
       "    .dataframe thead th {\n",
       "        text-align: right;\n",
       "    }\n",
       "</style>\n",
       "<table border=\"1\" class=\"dataframe\">\n",
       "  <thead>\n",
       "    <tr style=\"text-align: right;\">\n",
       "      <th></th>\n",
       "      <th>file_name</th>\n",
       "      <th>age_</th>\n",
       "    </tr>\n",
       "  </thead>\n",
       "  <tbody>\n",
       "    <tr>\n",
       "      <th>0</th>\n",
       "      <td>1</td>\n",
       "      <td>4</td>\n",
       "    </tr>\n",
       "    <tr>\n",
       "      <th>1</th>\n",
       "      <td>10</td>\n",
       "      <td>3</td>\n",
       "    </tr>\n",
       "    <tr>\n",
       "      <th>2</th>\n",
       "      <td>100</td>\n",
       "      <td>5</td>\n",
       "    </tr>\n",
       "    <tr>\n",
       "      <th>3</th>\n",
       "      <td>1000</td>\n",
       "      <td>3</td>\n",
       "    </tr>\n",
       "    <tr>\n",
       "      <th>4</th>\n",
       "      <td>1001</td>\n",
       "      <td>4</td>\n",
       "    </tr>\n",
       "    <tr>\n",
       "      <th>...</th>\n",
       "      <td>...</td>\n",
       "      <td>...</td>\n",
       "    </tr>\n",
       "    <tr>\n",
       "      <th>1985</th>\n",
       "      <td>995</td>\n",
       "      <td>5</td>\n",
       "    </tr>\n",
       "    <tr>\n",
       "      <th>1986</th>\n",
       "      <td>996</td>\n",
       "      <td>2</td>\n",
       "    </tr>\n",
       "    <tr>\n",
       "      <th>1987</th>\n",
       "      <td>997</td>\n",
       "      <td>3</td>\n",
       "    </tr>\n",
       "    <tr>\n",
       "      <th>1988</th>\n",
       "      <td>998</td>\n",
       "      <td>6</td>\n",
       "    </tr>\n",
       "    <tr>\n",
       "      <th>1989</th>\n",
       "      <td>999</td>\n",
       "      <td>4</td>\n",
       "    </tr>\n",
       "  </tbody>\n",
       "</table>\n",
       "<p>1990 rows × 2 columns</p>\n",
       "</div>"
      ],
      "text/plain": [
       "      file_name  age_\n",
       "0             1     4\n",
       "1            10     3\n",
       "2           100     5\n",
       "3          1000     3\n",
       "4          1001     4\n",
       "...         ...   ...\n",
       "1985        995     5\n",
       "1986        996     2\n",
       "1987        997     3\n",
       "1988        998     6\n",
       "1989        999     4\n",
       "\n",
       "[1990 rows x 2 columns]"
      ]
     },
     "execution_count": 24,
     "metadata": {},
     "output_type": "execute_result"
    }
   ],
   "source": [
    "sub"
   ]
  },
  {
   "cell_type": "code",
   "execution_count": null,
   "id": "9cdba347",
   "metadata": {},
   "outputs": [],
   "source": []
  }
 ],
 "metadata": {
  "kernelspec": {
   "display_name": "Python [conda env:speaker_recog]",
   "language": "python",
   "name": "conda-env-speaker_recog-py"
  },
  "language_info": {
   "codemirror_mode": {
    "name": "ipython",
    "version": 3
   },
   "file_extension": ".py",
   "mimetype": "text/x-python",
   "name": "python",
   "nbconvert_exporter": "python",
   "pygments_lexer": "ipython3",
   "version": "3.9.7"
  }
 },
 "nbformat": 4,
 "nbformat_minor": 5
}
